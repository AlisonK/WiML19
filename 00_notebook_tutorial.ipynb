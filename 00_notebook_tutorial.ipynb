{
  "nbformat": 4,
  "nbformat_minor": 0,
  "metadata": {
    "colab": {
      "name": "00_notebook_tutorial.ipynb",
      "version": "0.3.2",
      "provenance": [],
      "collapsed_sections": [],
      "toc_visible": true
    },
    "kernelspec": {
      "display_name": "Python 3",
      "language": "python",
      "name": "python3"
    }
  },
  "cells": [
    {
      "cell_type": "markdown",
      "metadata": {
        "id": "dT3hv6WLdswQ",
        "colab_type": "text"
      },
      "source": [
        "**Important note:** You should always work on a duplicate of the course notebook. On the page you used to open this, tick the box next to the name of the notebook and click duplicate to easily create a new version of this notebook.\n",
        "\n",
        "You will get errors each time you try to update your course repository if you don't do this, and your changes will end up being erased by the original course version."
      ]
    },
    {
      "cell_type": "markdown",
      "metadata": {
        "id": "hSnKhifSdswT",
        "colab_type": "text"
      },
      "source": [
        "# Welcome to Jupyter Notebooks!"
      ]
    },
    {
      "cell_type": "markdown",
      "metadata": {
        "id": "ANanlHU5dswU",
        "colab_type": "text"
      },
      "source": [
        "If you want to learn how to use this tool you've come to the right place. This article will teach you all you need to know to use Jupyter Notebooks effectively. You only need to go through Section 1 to learn the basics and you can go into Section 2 if you want to further increase your productivity."
      ]
    },
    {
      "cell_type": "markdown",
      "metadata": {
        "id": "XEkM1ZyYdswU",
        "colab_type": "text"
      },
      "source": [
        "You might be reading this tutorial in a web page (maybe Github or the course's webpage). We strongly suggest to read this tutorial in a (yes, you guessed it) Jupyter Notebook. This way you will be able to actually *try* the different commands we will introduce here."
      ]
    },
    {
      "cell_type": "markdown",
      "metadata": {
        "id": "_bivQNg7dswV",
        "colab_type": "text"
      },
      "source": [
        "## Section 1: Need to Know"
      ]
    },
    {
      "cell_type": "markdown",
      "metadata": {
        "id": "GqrFtnjIdswW",
        "colab_type": "text"
      },
      "source": [
        "### Introduction"
      ]
    },
    {
      "cell_type": "markdown",
      "metadata": {
        "id": "hzpUvKGcdswW",
        "colab_type": "text"
      },
      "source": [
        "Let's build up from the basics, what is a Jupyter Notebook? Well, you are reading one. It is a document made of cells. You can write like I am writing now (markdown cells) or you can perform calculations in Python (code cells) and run them like this:"
      ]
    },
    {
      "cell_type": "code",
      "metadata": {
        "id": "Bj_Ktje0dswX",
        "colab_type": "code",
        "outputId": "f28e8d5a-9a8f-45f7-e8e0-83f9aa438361",
        "colab": {
          "base_uri": "https://localhost:8080/",
          "height": 34
        }
      },
      "source": [
        "1+1"
      ],
      "execution_count": 1,
      "outputs": [
        {
          "output_type": "execute_result",
          "data": {
            "text/plain": [
              "2"
            ]
          },
          "metadata": {
            "tags": []
          },
          "execution_count": 1
        }
      ]
    },
    {
      "cell_type": "markdown",
      "metadata": {
        "id": "0I-mPc0Udswd",
        "colab_type": "text"
      },
      "source": [
        "Cool huh? This combination of prose and code makes Jupyter Notebook ideal for experimentation: we can see the rationale for each experiment, the code and the results in one comprehensive document. In fast.ai, each lesson is documented in a notebook and you can later use that notebook to experiment yourself. \n",
        "\n",
        "Other renowned institutions in academy and industry use Jupyter Notebook: Google, Microsoft, IBM, Bloomberg, Berkeley and NASA among others. Even Nobel-winning economists [use Jupyter Notebooks](https://paulromer.net/jupyter-mathematica-and-the-future-of-the-research-paper/)  for their experiments and some suggest that Jupyter Notebooks will be the [new format for research papers](https://www.theatlantic.com/science/archive/2018/04/the-scientific-paper-is-obsolete/556676/)."
      ]
    },
    {
      "cell_type": "markdown",
      "metadata": {
        "id": "wrpQ0GFIdswe",
        "colab_type": "text"
      },
      "source": [
        "### Writing"
      ]
    },
    {
      "cell_type": "markdown",
      "metadata": {
        "id": "3RIHZ7iXdswf",
        "colab_type": "text"
      },
      "source": [
        "A type of cell in which you can write like this is called _Markdown_. [_Markdown_](https://en.wikipedia.org/wiki/Markdown) is a very popular markup language. To specify that a cell is _Markdown_ you need to click in the drop-down menu in the toolbar and select _Markdown_."
      ]
    },
    {
      "cell_type": "markdown",
      "metadata": {
        "id": "igAJqzTZdswg",
        "colab_type": "text"
      },
      "source": [
        "Click on the the '+' button on the left and select _Markdown_ from the toolbar."
      ]
    },
    {
      "cell_type": "markdown",
      "metadata": {
        "id": "5ZX9jPPLdswg",
        "colab_type": "text"
      },
      "source": [
        "Now you can type your first _Markdown_ cell. Write 'My first markdown cell' and press run."
      ]
    },
    {
      "cell_type": "markdown",
      "metadata": {
        "id": "4GU_aTVFeA8C",
        "colab_type": "text"
      },
      "source": [
        "**Note: If you are running this notebook in Colab you will not have the exact same options. From top left corner, you can press CODE to add a code cell, or TEXT to add a Markdown cell**\n",
        "<p>See the shortcuts for converting code to markdown and vice versa."
      ]
    },
    {
      "cell_type": "markdown",
      "metadata": {
        "id": "4HjAcux3dswh",
        "colab_type": "text"
      },
      "source": [
        "![add](https://github.com/fastai/course-v3/blob/master/nbs/dl1/images/notebook_tutorial/add.png?raw=1)"
      ]
    },
    {
      "cell_type": "markdown",
      "metadata": {
        "id": "OSni_yVRdswi",
        "colab_type": "text"
      },
      "source": [
        "You should see something like this:"
      ]
    },
    {
      "cell_type": "markdown",
      "metadata": {
        "id": "4nsn1biodswi",
        "colab_type": "text"
      },
      "source": [
        "My first markdown cell"
      ]
    },
    {
      "cell_type": "markdown",
      "metadata": {
        "id": "pPveu7-adswj",
        "colab_type": "text"
      },
      "source": [
        "Now try making your first _Code_ cell: follow the same steps as before but don't change the cell type (when you add a cell its default type is _Code_). Type something like 3/2. You should see '1.5' as output."
      ]
    },
    {
      "cell_type": "code",
      "metadata": {
        "id": "pQSiI9KOdswk",
        "colab_type": "code",
        "outputId": "4eeb31d1-7622-418c-ff09-67d46dce4c63",
        "colab": {
          "base_uri": "https://localhost:8080/",
          "height": 34
        }
      },
      "source": [
        "3/2"
      ],
      "execution_count": 2,
      "outputs": [
        {
          "output_type": "execute_result",
          "data": {
            "text/plain": [
              "1.5"
            ]
          },
          "metadata": {
            "tags": []
          },
          "execution_count": 2
        }
      ]
    },
    {
      "cell_type": "markdown",
      "metadata": {
        "id": "BrKCYPcJdswn",
        "colab_type": "text"
      },
      "source": [
        "### Modes"
      ]
    },
    {
      "cell_type": "markdown",
      "metadata": {
        "id": "BYH7ooWSdswo",
        "colab_type": "text"
      },
      "source": [
        "If you made a mistake in your *Markdown* cell and you have already ran it, you will notice that you cannot edit it just by clicking on it. This is because you are in **Command Mode**. Jupyter Notebooks have two distinct modes:\n",
        "\n",
        "1. **Edit Mode**: Allows you to edit a cell's content.\n",
        "\n",
        "2. **Command Mode**: Allows you to edit the notebook as a whole and use keyboard shortcuts but not edit a cell's content. \n",
        "\n",
        "You can toggle between these two by either pressing <kbd>ESC</kbd> and <kbd>Enter</kbd> or clicking outside a cell or inside it (you need to double click if its a Markdown cell). You can always know which mode you're on since the current cell has a green border if in **Edit Mode** and a blue border in **Command Mode**. Try it!"
      ]
    },
    {
      "cell_type": "markdown",
      "metadata": {
        "id": "LppbX1Pndswp",
        "colab_type": "text"
      },
      "source": [
        "### Other Important Considerations"
      ]
    },
    {
      "cell_type": "markdown",
      "metadata": {
        "id": "er85Ov0Qdswp",
        "colab_type": "text"
      },
      "source": [
        "1. Your notebook is autosaved every 120 seconds. If you want to manually save it you can just press the save button on the upper left corner or press <kbd>s</kbd> in **Command Mode**."
      ]
    },
    {
      "cell_type": "markdown",
      "metadata": {
        "id": "L1PqI8tOdswq",
        "colab_type": "text"
      },
      "source": [
        "![Save](https://github.com/fastai/course-v3/blob/master/nbs/dl1/images/notebook_tutorial/save.png?raw=1)"
      ]
    },
    {
      "cell_type": "markdown",
      "metadata": {
        "id": "h8iPD1w8dswr",
        "colab_type": "text"
      },
      "source": [
        "2. To know if your kernel is computing or not you can check the dot in your upper right corner. If the dot is full, it means that the kernel is working. If not, it is idle. You can place the mouse on it and see the state of the kernel be displayed."
      ]
    },
    {
      "cell_type": "markdown",
      "metadata": {
        "id": "AcvtpYUgdsws",
        "colab_type": "text"
      },
      "source": [
        "![Busy](https://github.com/fastai/course-v3/blob/master/nbs/dl1/images/notebook_tutorial/busy.png?raw=1)"
      ]
    },
    {
      "cell_type": "markdown",
      "metadata": {
        "id": "xCEhZNJ1dswt",
        "colab_type": "text"
      },
      "source": [
        "3. There are a couple of shortcuts you must know about which we use **all** the time (always in **Command Mode**). These are:\n",
        "\n",
        "<kbd>Shift</kbd>+<kbd>Enter</kbd>: Runs the code or markdown on a cell\n",
        "\n",
        "<kbd>Up Arrow</kbd>+<kbd>Down Arrow</kbd>: Toggle across cells\n",
        "\n",
        "<kbd>a</kbd>: Create new cell above the selected cell (Not available in Colab)\n",
        "\n",
        "<kbd>b</kbd>: Create new cell below the selected cell (Not available in Colab)\n",
        "\n",
        "<kbd>0</kbd>+<kbd>0</kbd>: Reset Kernel (in Colab use <kbd>Ctrl</kbd>+<kbd>M</kbd> <kbd>.</kbd>)\n",
        "\n",
        "You can find more shortcuts in the Shortcuts section below."
      ]
    },
    {
      "cell_type": "markdown",
      "metadata": {
        "id": "huFo6bTjdswu",
        "colab_type": "text"
      },
      "source": [
        "4. You may need to use a terminal in a Jupyter Notebook environment (for example to git pull on a repository). That is very easy to do, just press 'New' in your Home directory and 'Terminal'. Don't know how to use the Terminal? We made a tutorial for that as well. You can find it [here](https://course.fast.ai/terminal_tutorial.html)."
      ]
    },
    {
      "cell_type": "markdown",
      "metadata": {
        "id": "uK2khB2fdswu",
        "colab_type": "text"
      },
      "source": [
        "![Terminal](https://github.com/fastai/course-v3/blob/master/nbs/dl1/images/notebook_tutorial/terminal.png?raw=1)"
      ]
    },
    {
      "cell_type": "markdown",
      "metadata": {
        "id": "Csv-JPsfdswv",
        "colab_type": "text"
      },
      "source": [
        "That's it. This is all you need to know to use Jupyter Notebooks. That said, we have more tips and tricks below ↓↓↓"
      ]
    },
    {
      "cell_type": "markdown",
      "metadata": {
        "id": "kEe3mE9Adsww",
        "colab_type": "text"
      },
      "source": [
        "## Section 2: Going deeper"
      ]
    },
    {
      "cell_type": "markdown",
      "metadata": {
        "hide_input": false,
        "id": "f1cgd7wVdswx",
        "colab_type": "text"
      },
      "source": [
        "### Markdown formatting"
      ]
    },
    {
      "cell_type": "markdown",
      "metadata": {
        "id": "VkUNpqL9dswx",
        "colab_type": "text"
      },
      "source": [
        "#### Italics, Bold, Strikethrough, Inline, Blockquotes and Links"
      ]
    },
    {
      "cell_type": "markdown",
      "metadata": {
        "id": "-mfQlXsMdswy",
        "colab_type": "text"
      },
      "source": [
        "The five most important concepts to format your code appropriately when using markdown are:\n",
        "    \n",
        "1. *Italics*: Surround your text with '\\_' or '\\*'\n",
        "2. **Bold**: Surround your text with '\\__' or '\\**'\n",
        "3. `inline`: Surround your text with '\\`'\n",
        "4.  > blockquote: Place '\\>' before your text.\n",
        "5.  [Links](https://course.fast.ai/): Surround the text you want to link with '\\[\\]' and place the link adjacent to the text, surrounded with '()'\n"
      ]
    },
    {
      "cell_type": "markdown",
      "metadata": {
        "id": "NvaB3aofdswz",
        "colab_type": "text"
      },
      "source": [
        "#### Headings"
      ]
    },
    {
      "cell_type": "markdown",
      "metadata": {
        "id": "3rQw8tqOdswz",
        "colab_type": "text"
      },
      "source": [
        "Notice that including a hashtag before the text in a markdown cell makes the text a heading. The number of hashtags you include will determine the priority of the header ('#' is level one, '##' is level two, '###' is level three and '####' is level four). We will add three new cells with the '+' button on the left to see how every level of heading looks."
      ]
    },
    {
      "cell_type": "markdown",
      "metadata": {
        "id": "NKceDhardsw0",
        "colab_type": "text"
      },
      "source": [
        "Double click on some headings and find out what level they are!"
      ]
    },
    {
      "cell_type": "markdown",
      "metadata": {
        "id": "hWun7YTTdsw1",
        "colab_type": "text"
      },
      "source": [
        "#### Lists"
      ]
    },
    {
      "cell_type": "markdown",
      "metadata": {
        "id": "BCKlPAibdsw1",
        "colab_type": "text"
      },
      "source": [
        "There are three types of lists in markdown."
      ]
    },
    {
      "cell_type": "markdown",
      "metadata": {
        "id": "evcoxLVrdsw2",
        "colab_type": "text"
      },
      "source": [
        "Ordered list:\n",
        "\n",
        "1. Step 1\n",
        "    2. Step 1B\n",
        "3. Step 3"
      ]
    },
    {
      "cell_type": "markdown",
      "metadata": {
        "id": "zJLok1bTdsw3",
        "colab_type": "text"
      },
      "source": [
        "Unordered list\n",
        "\n",
        "* learning rate\n",
        "* cycle length\n",
        "* weight decay"
      ]
    },
    {
      "cell_type": "markdown",
      "metadata": {
        "id": "ucKFkJZWdsw4",
        "colab_type": "text"
      },
      "source": [
        "Task list\n",
        "\n",
        "- [x] Learn Jupyter Notebooks\n",
        "    - [x] Writing\n",
        "    - [x] Modes\n",
        "    - [x] Other Considerations\n",
        "- [ ] Change the world"
      ]
    },
    {
      "cell_type": "markdown",
      "metadata": {
        "id": "Jq5gPwwhdsw5",
        "colab_type": "text"
      },
      "source": [
        "Double click on each to see how they are built! "
      ]
    },
    {
      "cell_type": "markdown",
      "metadata": {
        "id": "Z-9DNcxZdsw5",
        "colab_type": "text"
      },
      "source": [
        "### Code Capabilities"
      ]
    },
    {
      "cell_type": "markdown",
      "metadata": {
        "id": "es4iuo-9dsw6",
        "colab_type": "text"
      },
      "source": [
        "**Code** cells are different than **Markdown** cells in that they have an output cell. This means that we can _keep_ the results of our code within the notebook and share them. Let's say we want to show a graph that explains the result of an experiment. We can just run the necessary cells and save the notebook. The output will be there when we open it again! Try it out by running the next four cells."
      ]
    },
    {
      "cell_type": "code",
      "metadata": {
        "id": "Qy_AewmJdsw7",
        "colab_type": "code",
        "colab": {}
      },
      "source": [
        "# Import necessary libraries\n",
        "from fastai.vision import * \n",
        "import matplotlib.pyplot as plt"
      ],
      "execution_count": 0,
      "outputs": []
    },
    {
      "cell_type": "code",
      "metadata": {
        "id": "2WRdbrMKdsw9",
        "colab_type": "code",
        "colab": {}
      },
      "source": [
        "from PIL import Image"
      ],
      "execution_count": 0,
      "outputs": []
    },
    {
      "cell_type": "code",
      "metadata": {
        "id": "nOs_v9lmdsw_",
        "colab_type": "code",
        "outputId": "444caa55-5fb2-48c5-e568-51b81ca3779e",
        "colab": {
          "base_uri": "https://localhost:8080/",
          "height": 34
        }
      },
      "source": [
        "a = 1\n",
        "b = a + 1\n",
        "c = b + a + 1\n",
        "d = c + b + a + 1\n",
        "a, b, c ,d"
      ],
      "execution_count": 5,
      "outputs": [
        {
          "output_type": "execute_result",
          "data": {
            "text/plain": [
              "(1, 2, 4, 8)"
            ]
          },
          "metadata": {
            "tags": []
          },
          "execution_count": 5
        }
      ]
    },
    {
      "cell_type": "code",
      "metadata": {
        "id": "-A1dOnSGdsxD",
        "colab_type": "code",
        "outputId": "cd31a76d-c5ec-441c-9461-8576ff319f92",
        "colab": {
          "base_uri": "https://localhost:8080/",
          "height": 269
        }
      },
      "source": [
        "plt.plot([a,b,c,d])\n",
        "plt.show()"
      ],
      "execution_count": 6,
      "outputs": [
        {
          "output_type": "display_data",
          "data": {
            "image/png": "[encoded data removed]",
            "text/plain": [
              "<Figure size 432x288 with 1 Axes>"
            ]
          },
          "metadata": {
            "tags": []
          }
        }
      ]
    },
    {
      "cell_type": "markdown",
      "metadata": {
        "id": "ROA4rIo7dsxG",
        "colab_type": "text"
      },
      "source": [
        "We can also print images while experimenting. I am watching you."
      ]
    },
    {
      "cell_type": "code",
      "metadata": {
        "id": "QEw-7idpgDXC",
        "colab_type": "code",
        "colab": {
          "base_uri": "https://localhost:8080/",
          "height": 204
        },
        "outputId": "31b1b907-cf8d-459e-e671-5b0f76675834"
      },
      "source": [
        "# let's download a photo first\n",
        "!wget https://www.cdc.gov/importation/images/cat.jpg"
      ],
      "execution_count": 15,
      "outputs": [
        {
          "output_type": "stream",
          "text": [
            "--2019-06-25 02:45:15--  https://www.cdc.gov/importation/images/cat.jpg\n",
            "Resolving www.cdc.gov (www.cdc.gov)... 23.41.47.124, 2600:1409:a:385::2461, 2600:1409:a:398::2461\n",
            "Connecting to www.cdc.gov (www.cdc.gov)|23.41.47.124|:443... connected.\n",
            "HTTP request sent, awaiting response... 200 OK\n",
            "Length: 14913 (15K) [image/jpeg]\n",
            "Saving to: ‘cat.jpg’\n",
            "\n",
            "\rcat.jpg               0%[                    ]       0  --.-KB/s               \rcat.jpg             100%[===================>]  14.56K  --.-KB/s    in 0s      \n",
            "\n",
            "2019-06-25 02:45:15 (272 MB/s) - ‘cat.jpg’ saved [14913/14913]\n",
            "\n"
          ],
          "name": "stdout"
        }
      ]
    },
    {
      "cell_type": "code",
      "metadata": {
        "id": "u31w7F7ldsxH",
        "colab_type": "code",
        "outputId": "caede73b-39ca-4de7-fe0f-fb8ae19ca481",
        "colab": {
          "base_uri": "https://localhost:8080/",
          "height": 263
        }
      },
      "source": [
        "Image.open('./cat.jpg')"
      ],
      "execution_count": 16,
      "outputs": [
        {
          "output_type": "execute_result",
          "data": {
            "image/png": "[encoded data removed]",
            "text/plain": [
              "<PIL.JpegImagePlugin.JpegImageFile image mode=RGB size=164x246 at 0x7FC2073441D0>"
            ]
          },
          "metadata": {
            "tags": []
          },
          "execution_count": 16
        }
      ]
    },
    {
      "cell_type": "markdown",
      "metadata": {
        "id": "vN4AoL_bdsxL",
        "colab_type": "text"
      },
      "source": [
        "### Running the app locally"
      ]
    },
    {
      "cell_type": "markdown",
      "metadata": {
        "id": "urIqFm2mdsxM",
        "colab_type": "text"
      },
      "source": [
        "You may be running Jupyter Notebook from an interactive coding environment like Gradient, Sagemaker or Salamander. You can also run a Jupyter Notebook server from your local computer. What's more, if you have installed Anaconda you don't even need to install Jupyter (if not, just `pip install jupyter`).\n",
        "\n",
        "You just need to run `jupyter notebook` in your terminal. Remember to run it from a folder that contains all the folders/files you will want to access. You will be able to open, view and edit files located within the directory in which you run this command but not files in parent directories.\n",
        "\n",
        "If a browser tab does not open automatically once you run the command, you should CTRL+CLICK the link starting with 'https://localhost:' and this will open a new tab in your default browser."
      ]
    },
    {
      "cell_type": "markdown",
      "metadata": {
        "id": "YYsYJQx6dsxM",
        "colab_type": "text"
      },
      "source": [
        "### Creating a notebook"
      ]
    },
    {
      "cell_type": "markdown",
      "metadata": {
        "id": "ektJLI0rdsxN",
        "colab_type": "text"
      },
      "source": [
        "Click on 'New' in the upper right corner and 'Python 3' in the drop-down list (we are going to use a [Python kernel](https://github.com/ipython/ipython) for all our experiments).\n",
        "\n",
        "![new_notebook](https://github.com/fastai/course-v3/blob/master/nbs/dl1/images/notebook_tutorial/new_notebook.png?raw=1)\n",
        "\n",
        "Note: You will sometimes hear people talking about the Notebook 'kernel'. The 'kernel' is just the Python engine that performs the computations for you. "
      ]
    },
    {
      "cell_type": "markdown",
      "metadata": {
        "id": "5KTx20f9jNxS",
        "colab_type": "text"
      },
      "source": [
        "**Note: If working in colab you can start a new notebook from File>New Python 3 notebook**"
      ]
    },
    {
      "cell_type": "markdown",
      "metadata": {
        "id": "FmvbubnJdsxO",
        "colab_type": "text"
      },
      "source": [
        "### Shortcuts and tricks"
      ]
    },
    {
      "cell_type": "markdown",
      "metadata": {
        "id": "gbRDnozhdsxO",
        "colab_type": "text"
      },
      "source": [
        "#### Command Mode Shortcuts"
      ]
    },
    {
      "cell_type": "markdown",
      "metadata": {
        "id": "esLd7AB6dsxP",
        "colab_type": "text"
      },
      "source": [
        "There are a couple of useful keyboard shortcuts in `Command Mode` that you can leverage to make Jupyter Notebook faster to use. Remember that to switch back and forth between `Command Mode` and `Edit Mode` with <kbd>Esc</kbd> and <kbd>Enter</kbd>."
      ]
    },
    {
      "cell_type": "markdown",
      "metadata": {
        "id": "L4dtbnK3dsxP",
        "colab_type": "text"
      },
      "source": [
        "<kbd>m</kbd>: Convert cell to Markdown \n",
        "  * In colab <kbd>Ctrl</kbd>+<kbd>M</kbd> <kbd>M</kbd>"
      ]
    },
    {
      "cell_type": "markdown",
      "metadata": {
        "id": "VMC7ZKKYdsxS",
        "colab_type": "text"
      },
      "source": [
        "<kbd>y</kbd>: Convert cell to Code <p>\n",
        "  * In colab <kbd>Ctrl</kbd>+<kbd>M</kbd> <kbd>Y</kbd>"
      ]
    },
    {
      "cell_type": "markdown",
      "metadata": {
        "id": "r4dBq3T_dsxT",
        "colab_type": "text"
      },
      "source": [
        "<kbd>D</kbd>+<kbd>D</kbd>: Delete the cell(if it's not the only cell) or delete the content of the cell and reset cell to Code(if only one cell left) <p> \n",
        "  * In colab <kbd>Ctrl</kbd>+<kbd>M</kbd> <kbd>D</kbd>"
      ]
    },
    {
      "cell_type": "markdown",
      "metadata": {
        "id": "9p9cAbmYdsxV",
        "colab_type": "text"
      },
      "source": [
        "<kbd>o</kbd>: Toggle between hide or show output"
      ]
    },
    {
      "cell_type": "markdown",
      "metadata": {
        "id": "2M2bzfh6dsxV",
        "colab_type": "text"
      },
      "source": [
        "<kbd>Shift</kbd>+<kbd>Arrow up/Arrow down</kbd>: Selects multiple cells. Once you have selected them you can operate on them like a batch (run, copy, paste etc). \n",
        "* This doesn't work for code blocks in Colab. You can select multiple cells by hold <kbd>Ctrl</kbd> key and clicking on the cells."
      ]
    },
    {
      "cell_type": "markdown",
      "metadata": {
        "id": "vF3rYKpUdsxW",
        "colab_type": "text"
      },
      "source": [
        "<kbd>Shift</kbd>+<kbd>M</kbd>: Merge selected cells.\n",
        "* By default doesn't have any shortcut in Colab. You can press <kbd>Ctrl</kbd> <kbd>M</kbd> <kbd>H</kbd> which will open keyboard shortcuts. Then you can manually assign a shortcut for merging cells"
      ]
    },
    {
      "cell_type": "markdown",
      "metadata": {
        "id": "dlXtWIFfdsxX",
        "colab_type": "text"
      },
      "source": [
        "<kbd>Shift</kbd>+<kbd>Tab</kbd>: [press these two buttons at the same time, once] Tells you which parameters to pass on a function\n",
        "<kbd>Shift</kbd>+<kbd>Tab</kbd>: [press these two buttons at the same time, three times] Gives additional information on the method\n",
        "* In Colab you only need to press <kbd>Tab</kbd>"
      ]
    },
    {
      "cell_type": "code",
      "metadata": {
        "id": "s4mSThXhlUUu",
        "colab_type": "code",
        "colab": {}
      },
      "source": [
        ""
      ],
      "execution_count": 0,
      "outputs": []
    },
    {
      "cell_type": "markdown",
      "metadata": {
        "id": "v1pgEOJ1dsxX",
        "colab_type": "text"
      },
      "source": [
        "#### Cell Tricks"
      ]
    },
    {
      "cell_type": "code",
      "metadata": {
        "id": "6er4FtyRdsxY",
        "colab_type": "code",
        "colab": {}
      },
      "source": [
        "from fastai import*\n",
        "from fastai.vision import *"
      ],
      "execution_count": 0,
      "outputs": []
    },
    {
      "cell_type": "markdown",
      "metadata": {
        "id": "HNFrEeBZdsxa",
        "colab_type": "text"
      },
      "source": [
        "There are also some tricks that you can code into a cell."
      ]
    },
    {
      "cell_type": "markdown",
      "metadata": {
        "id": "yclxADYndsxa",
        "colab_type": "text"
      },
      "source": [
        "`?function-name`: Shows the definition and docstring for that function"
      ]
    },
    {
      "cell_type": "code",
      "metadata": {
        "id": "CDqEf2TGdsxb",
        "colab_type": "code",
        "colab": {}
      },
      "source": [
        "?ImageDataBunch"
      ],
      "execution_count": 0,
      "outputs": []
    },
    {
      "cell_type": "markdown",
      "metadata": {
        "id": "3reVAmc7dsxd",
        "colab_type": "text"
      },
      "source": [
        "`??function-name`: Shows the source code for that function"
      ]
    },
    {
      "cell_type": "code",
      "metadata": {
        "id": "__LaD6Acdsxe",
        "colab_type": "code",
        "colab": {}
      },
      "source": [
        "??ImageDataBunch"
      ],
      "execution_count": 0,
      "outputs": []
    },
    {
      "cell_type": "markdown",
      "metadata": {
        "id": "phGvEJd2dsxh",
        "colab_type": "text"
      },
      "source": [
        "`doc(function-name)`: Shows the definition, docstring **and links to the documentation** of the function\n",
        "(only works with fastai library imported)"
      ]
    },
    {
      "cell_type": "code",
      "metadata": {
        "id": "ubsqNrzXdsxh",
        "colab_type": "code",
        "colab": {
          "base_uri": "https://localhost:8080/",
          "height": 231
        },
        "outputId": "cc120bcb-de11-44e9-884c-934a89b62355"
      },
      "source": [
        "doc(ImageDataBunch)"
      ],
      "execution_count": 22,
      "outputs": [
        {
          "output_type": "display_data",
          "data": {
            "text/html": [
              "<h2 id=\"ImageDataBunch\" class=\"doc_header\"><code>class</code> <code>ImageDataBunch</code><a href=\"https://github.com/fastai/fastai/blob/master/fastai/vision/data.py#L85\" class=\"source_link\" style=\"float:right\">[source]</a><a class=\"source_link\" data-toggle=\"collapse\" data-target=\"#ImageDataBunch-pytest\" style=\"float:right; padding-right:10px\">[test]</a></h2><blockquote><p><code>ImageDataBunch</code>(<strong><code>train_dl</code></strong>:<a href=\"https://pytorch.org/docs/stable/data.html#torch.utils.data.DataLoader\"><code>DataLoader</code></a>, <strong><code>valid_dl</code></strong>:<a href=\"https://pytorch.org/docs/stable/data.html#torch.utils.data.DataLoader\"><code>DataLoader</code></a>, <strong><code>fix_dl</code></strong>:<a href=\"https://pytorch.org/docs/stable/data.html#torch.utils.data.DataLoader\"><code>DataLoader</code></a>=<strong><em><code>None</code></em></strong>, <strong><code>test_dl</code></strong>:<code>Optional</code>[<a href=\"https://pytorch.org/docs/stable/data.html#torch.utils.data.DataLoader\"><code>DataLoader</code></a>]=<strong><em><code>None</code></em></strong>, <strong><code>device</code></strong>:<a href=\"https://pytorch.org/docs/stable/tensor_attributes.html#torch-device\"><code>device</code></a>=<strong><em><code>None</code></em></strong>, <strong><code>dl_tfms</code></strong>:<code>Optional</code>[<code>Collection</code>[<code>Callable</code>]]=<strong><em><code>None</code></em></strong>, <strong><code>path</code></strong>:<code>PathOrStr</code>=<strong><em><code>'.'</code></em></strong>, <strong><code>collate_fn</code></strong>:<code>Callable</code>=<strong><em><code>'data_collate'</code></em></strong>, <strong><code>no_check</code></strong>:<code>bool</code>=<strong><em><code>False</code></em></strong>) :: <a href=\"https://docs.fast.ai/basic_data.html#DataBunch\"><code>DataBunch</code></a></p>\n",
              "</blockquote>\n",
              "<div class=\"collapse\" id=\"ImageDataBunch-pytest\"><div class=\"card card-body pytest_card\"><a type=\"button\" data-toggle=\"collapse\" data-target=\"#ImageDataBunch-pytest\" class=\"close\" aria-label=\"Close\"><span aria-hidden=\"true\">&times;</span></a><p>No tests found for <code>ImageDataBunch</code>. To contribute a test please refer to <a href=\"/dev/test.html\">this guide</a> and <a href=\"https://forums.fast.ai/t/improving-expanding-functional-tests/32929\">this discussion</a>.</p></div></div><p>DataBunch suitable for computer vision.</p>\n",
              "<p><a href=\"https://docs.fast.ai/vision.data.html#ImageDataBunch\" target=\"_blank\" rel=\"noreferrer noopener\">Show in docs</a></p>\n"
            ],
            "text/plain": [
              "<IPython.core.display.HTML object>"
            ]
          },
          "metadata": {
            "tags": []
          }
        }
      ]
    },
    {
      "cell_type": "markdown",
      "metadata": {
        "id": "1qjfY3Jpdsxk",
        "colab_type": "text"
      },
      "source": [
        "#### Line Magics"
      ]
    },
    {
      "cell_type": "markdown",
      "metadata": {
        "id": "fNUC80htdsxl",
        "colab_type": "text"
      },
      "source": [
        "Line magics are functions that you can run on cells and take as an argument the rest of the line from where they are called. You call them by placing a '%' sign before the command. The most useful ones are:"
      ]
    },
    {
      "cell_type": "markdown",
      "metadata": {
        "id": "8ZCavEgKdsxl",
        "colab_type": "text"
      },
      "source": [
        "`%matplotlib inline`: This command ensures that all matplotlib plots will be plotted in the output cell within the notebook and will be kept in the notebook when saved."
      ]
    },
    {
      "cell_type": "markdown",
      "metadata": {
        "id": "N0NM3fGudsxm",
        "colab_type": "text"
      },
      "source": [
        "`%reload_ext autoreload`, `%autoreload 2`: Reload all modules before executing a new line. If a module is edited, it is not necessary to rerun the import commands, the modules will be reloaded automatically."
      ]
    },
    {
      "cell_type": "markdown",
      "metadata": {
        "id": "FGRK8ZEedsxm",
        "colab_type": "text"
      },
      "source": [
        "These three commands are always called together at the beginning of every notebook."
      ]
    },
    {
      "cell_type": "code",
      "metadata": {
        "id": "OPCle_AWdsxn",
        "colab_type": "code",
        "colab": {}
      },
      "source": [
        "%matplotlib inline\n",
        "%reload_ext autoreload\n",
        "%autoreload 2"
      ],
      "execution_count": 0,
      "outputs": []
    },
    {
      "cell_type": "markdown",
      "metadata": {
        "id": "xEL21ORldsxq",
        "colab_type": "text"
      },
      "source": [
        "`%timeit`: Runs a line a ten thousand times and displays the average time it took to run it."
      ]
    },
    {
      "cell_type": "code",
      "metadata": {
        "id": "_XLwhceadsxq",
        "colab_type": "code",
        "outputId": "58b5e44b-de42-4326-e859-617c6e0f049b",
        "colab": {
          "base_uri": "https://localhost:8080/",
          "height": 34
        }
      },
      "source": [
        "%timeit [i+1 for i in range(1000)]"
      ],
      "execution_count": 28,
      "outputs": [
        {
          "output_type": "stream",
          "text": [
            "10000 loops, best of 3: 71.9 µs per loop\n"
          ],
          "name": "stdout"
        }
      ]
    },
    {
      "cell_type": "markdown",
      "metadata": {
        "id": "62ZaMKJddsxt",
        "colab_type": "text"
      },
      "source": [
        "`%debug`: Allows to inspect a function which is showing an error using the [Python debugger](https://docs.python.org/3/library/pdb.html)."
      ]
    },
    {
      "cell_type": "code",
      "metadata": {
        "id": "VSwE5Pg3dsxu",
        "colab_type": "code",
        "outputId": "d383d18e-dcc7-48b5-97ac-5c6ba21b03e1",
        "colab": {
          "base_uri": "https://localhost:8080/",
          "height": 197
        }
      },
      "source": [
        "for i in range(1000):\n",
        "    a = i+1\n",
        "    b = 'string'\n",
        "    c = b+1"
      ],
      "execution_count": 29,
      "outputs": [
        {
          "output_type": "error",
          "ename": "TypeError",
          "evalue": "ignored",
          "traceback": [
            "\u001b[0;31m---------------------------------------------------------------------------\u001b[0m",
            "\u001b[0;31mTypeError\u001b[0m                                 Traceback (most recent call last)",
            "\u001b[0;32m<ipython-input-29-8d78ff778454>\u001b[0m in \u001b[0;36m<module>\u001b[0;34m()\u001b[0m\n\u001b[1;32m      2\u001b[0m     \u001b[0ma\u001b[0m \u001b[0;34m=\u001b[0m \u001b[0mi\u001b[0m\u001b[0;34m+\u001b[0m\u001b[0;36m1\u001b[0m\u001b[0;34m\u001b[0m\u001b[0;34m\u001b[0m\u001b[0m\n\u001b[1;32m      3\u001b[0m     \u001b[0mb\u001b[0m \u001b[0;34m=\u001b[0m \u001b[0;34m'string'\u001b[0m\u001b[0;34m\u001b[0m\u001b[0;34m\u001b[0m\u001b[0m\n\u001b[0;32m----> 4\u001b[0;31m     \u001b[0mc\u001b[0m \u001b[0;34m=\u001b[0m \u001b[0mb\u001b[0m\u001b[0;34m+\u001b[0m\u001b[0;36m1\u001b[0m\u001b[0;34m\u001b[0m\u001b[0;34m\u001b[0m\u001b[0m\n\u001b[0m",
            "\u001b[0;31mTypeError\u001b[0m: must be str, not int"
          ]
        }
      ]
    },
    {
      "cell_type": "code",
      "metadata": {
        "id": "tiDnYlgmdsxw",
        "colab_type": "code",
        "outputId": "f41d3718-a58c-4572-ae93-b3c1acf548d5",
        "colab": {
          "base_uri": "https://localhost:8080/",
          "height": 136
        }
      },
      "source": [
        "%debug"
      ],
      "execution_count": 31,
      "outputs": [
        {
          "output_type": "stream",
          "text": [
            "> \u001b[0;32m<ipython-input-29-8d78ff778454>\u001b[0m(4)\u001b[0;36m<module>\u001b[0;34m()\u001b[0m\n",
            "\u001b[0;32m      1 \u001b[0;31m\u001b[0;32mfor\u001b[0m \u001b[0mi\u001b[0m \u001b[0;32min\u001b[0m \u001b[0mrange\u001b[0m\u001b[0;34m(\u001b[0m\u001b[0;36m1000\u001b[0m\u001b[0;34m)\u001b[0m\u001b[0;34m:\u001b[0m\u001b[0;34m\u001b[0m\u001b[0;34m\u001b[0m\u001b[0m\n",
            "\u001b[0m\u001b[0;32m      2 \u001b[0;31m    \u001b[0ma\u001b[0m \u001b[0;34m=\u001b[0m \u001b[0mi\u001b[0m\u001b[0;34m+\u001b[0m\u001b[0;36m1\u001b[0m\u001b[0;34m\u001b[0m\u001b[0;34m\u001b[0m\u001b[0m\n",
            "\u001b[0m\u001b[0;32m      3 \u001b[0;31m    \u001b[0mb\u001b[0m \u001b[0;34m=\u001b[0m \u001b[0;34m'string'\u001b[0m\u001b[0;34m\u001b[0m\u001b[0;34m\u001b[0m\u001b[0m\n",
            "\u001b[0m\u001b[0;32m----> 4 \u001b[0;31m    \u001b[0mc\u001b[0m \u001b[0;34m=\u001b[0m \u001b[0mb\u001b[0m\u001b[0;34m+\u001b[0m\u001b[0;36m1\u001b[0m\u001b[0;34m\u001b[0m\u001b[0;34m\u001b[0m\u001b[0m\n",
            "\u001b[0m\n",
            "ipdb> q\n"
          ],
          "name": "stdout"
        }
      ]
    },
    {
      "cell_type": "code",
      "metadata": {
        "id": "AFDgM15-dsxy",
        "colab_type": "code",
        "colab": {}
      },
      "source": [
        ""
      ],
      "execution_count": 0,
      "outputs": []
    }
  ]
}